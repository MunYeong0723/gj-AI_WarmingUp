{
  "nbformat": 4,
  "nbformat_minor": 0,
  "metadata": {
    "colab": {
      "name": "Training_With_YoloV4-tiny.ipynb",
      "provenance": [],
      "collapsed_sections": [],
      "mount_file_id": "1fODoBxeptbPK2M6dSJOntQj3mc0_YuE9",
      "authorship_tag": "ABX9TyMPhKfL2ItXRiQwlNKaNyFP",
      "include_colab_link": true
    },
    "kernelspec": {
      "name": "python3",
      "display_name": "Python 3"
    },
    "accelerator": "GPU"
  },
  "cells": [
    {
      "cell_type": "markdown",
      "metadata": {
        "id": "view-in-github",
        "colab_type": "text"
      },
      "source": [
        "<a href=\"https://colab.research.google.com/github/MunYeong0723/gj-AI_WarmingUp/blob/MunYeong/Training_With_YoloV4_tiny.ipynb\" target=\"_parent\"><img src=\"https://colab.research.google.com/assets/colab-badge.svg\" alt=\"Open In Colab\"/></a>"
      ]
    },
    {
      "cell_type": "code",
      "metadata": {
        "id": "fgQ0r9F9hRlL",
        "colab_type": "code",
        "colab": {}
      },
      "source": [
        "# clone darknet repo\n",
        "!git clone https://github.com/AlexeyAB/darknet"
      ],
      "execution_count": null,
      "outputs": []
    },
    {
      "cell_type": "code",
      "metadata": {
        "id": "1CQdRIpR2t27",
        "colab_type": "code",
        "colab": {}
      },
      "source": [
        "# this creates a symbolic link so that now the path /content/gdrive/My\\ Drive/ is equal to /mydrive\n",
        "!ln -s \"/content/drive/My Drive/\" \"/myDrive\"\n",
        "!ls /myDrive"
      ],
      "execution_count": null,
      "outputs": []
    },
    {
      "cell_type": "code",
      "metadata": {
        "id": "2PFKlgvUiKKB",
        "colab_type": "code",
        "colab": {}
      },
      "source": [
        "# change makefile to have GPU and OPENCV enabled\n",
        "%cd darknet\n",
        "\n",
        "!sed -i 's/OPENCV=0/OPENCV=1/' Makefile\n",
        "!sed -i 's/GPU=0/GPU=1/' Makefile\n",
        "!sed -i 's/CUDNN=0/CUDNN=1/' Makefile\n",
        "!sed -i 's/CUDNN_HALF=0/CUDNN_HALF=1/' Makefile"
      ],
      "execution_count": null,
      "outputs": []
    },
    {
      "cell_type": "code",
      "metadata": {
        "id": "py1xW_OEiMWN",
        "colab_type": "code",
        "colab": {}
      },
      "source": [
        "# verify CUDA\n",
        "!/usr/local/cuda/bin/nvcc --version"
      ],
      "execution_count": null,
      "outputs": []
    },
    {
      "cell_type": "code",
      "metadata": {
        "id": "4Uw-r6BciN7N",
        "colab_type": "code",
        "colab": {}
      },
      "source": [
        "# make darknet (builds darknet so that you can then use the darknet executable file to run or train object detectors)\n",
        "!make"
      ],
      "execution_count": null,
      "outputs": []
    },
    {
      "cell_type": "code",
      "metadata": {
        "id": "RlnfPT6XiUUw",
        "colab_type": "code",
        "colab": {}
      },
      "source": [
        "# define helper functions\n",
        "def imShow(path):\n",
        "  import cv2\n",
        "  import matplotlib.pyplot as plt\n",
        "  %matplotlib inline\n",
        "\n",
        "  image = cv2.imread(path)\n",
        "  height, width = image.shape[:2]\n",
        "  resized_image = cv2.resize(image,(3*width, 3*height), interpolation = cv2.INTER_CUBIC)\n",
        "\n",
        "  fig = plt.gcf()\n",
        "  fig.set_size_inches(18, 10)\n",
        "  plt.axis(\"off\")\n",
        "  plt.imshow(cv2.cvtColor(resized_image, cv2.COLOR_BGR2RGB))\n",
        "  plt.show()\n",
        "\n",
        "# # use this to upload files\n",
        "# def upload():\n",
        "#   from google.colab import files\n",
        "#   uploaded = files.upload() \n",
        "#   for name, data in uploaded.items():\n",
        "#     with open(name, 'wb') as f:\n",
        "#       f.write(data)\n",
        "#       print ('saved file', name)\n",
        "\n",
        "# # use this to download a file  \n",
        "# def download(path):\n",
        "#   from google.colab import files\n",
        "#   files.download(path)"
      ],
      "execution_count": null,
      "outputs": []
    },
    {
      "cell_type": "code",
      "metadata": {
        "id": "AjOwOtZLiivW",
        "colab_type": "code",
        "colab": {}
      },
      "source": [
        "!ls /myDrive/yolov4"
      ],
      "execution_count": null,
      "outputs": []
    },
    {
      "cell_type": "code",
      "metadata": {
        "id": "e4IPFGX6jsF9",
        "colab_type": "code",
        "colab": {}
      },
      "source": [
        "# download cfg to google drive and change its name\n",
        "!cp cfg/yolov4-tiny-custom.cfg /myDrive/yolov4/yolov4-tiny-obj.cfg"
      ],
      "execution_count": null,
      "outputs": []
    },
    {
      "cell_type": "code",
      "metadata": {
        "id": "ypBrG5_5j1wU",
        "colab_type": "code",
        "colab": {}
      },
      "source": [
        "# upload the custom .cfg back to cloud VM from Google Drive\n",
        "# !cp \"/content/drive/My Drive/Colab Notebooks/yolov4/yolov4-obj.cfg\" ./cfg"
      ],
      "execution_count": null,
      "outputs": []
    },
    {
      "cell_type": "code",
      "metadata": {
        "id": "9jClhynulNCg",
        "colab_type": "code",
        "colab": {}
      },
      "source": [
        "# upload the obj.names and obj.data files to cloud VM from Google Drive\n",
        "# !cp \"/content/drive/My Drive/Colab Notebooks/yolov4/obj.names\" ./data\n",
        "# !cp \"/content/drive/My Drive/Colab Notebooks/yolov4/obj.data\"  ./data"
      ],
      "execution_count": null,
      "outputs": []
    },
    {
      "cell_type": "code",
      "metadata": {
        "id": "Fp2RSN7zq4-m",
        "colab_type": "code",
        "colab": {}
      },
      "source": [
        "# upload the generate_train.py and generate_test.py script to cloud VM from Google Drive\n",
        "# !cp \"/content/drive/My Drive/Colab Notebooks/yolov4/generate_train.py\" ./\n",
        "# !cp \"/content/drive/My Drive/Colab Notebooks/yolov4/generate_test.py\" ./"
      ],
      "execution_count": null,
      "outputs": []
    },
    {
      "cell_type": "code",
      "metadata": {
        "id": "_efRQO2pre_I",
        "colab_type": "code",
        "colab": {}
      },
      "source": [
        "!python /myDrive/yolov4/generate_train.py\n",
        "!python /myDrive/yolov4/generate_valid.py"
      ],
      "execution_count": null,
      "outputs": []
    },
    {
      "cell_type": "markdown",
      "metadata": {
        "id": "-8RjT4Egrpce",
        "colab_type": "text"
      },
      "source": [
        "# Download pre-trained weights for the convolutional layers"
      ]
    },
    {
      "cell_type": "code",
      "metadata": {
        "id": "eg0wfwHErn2m",
        "colab_type": "code",
        "colab": {}
      },
      "source": [
        "# !wget https://github.com/AlexeyAB/darknet/releases/download/darknet_yolo_v3_optimal/yolov4.conv.137\n",
        "!wget https://github.com/AlexeyAB/darknet/releases/download/darknet_yolo_v4_pre/yolov4-tiny.conv.29"
      ],
      "execution_count": null,
      "outputs": []
    },
    {
      "cell_type": "code",
      "metadata": {
        "id": "J847mcJUkTFj",
        "colab_type": "code",
        "colab": {}
      },
      "source": [
        "# This stops 'Run all' at this cell by causing an error\n",
        "assert False"
      ],
      "execution_count": null,
      "outputs": []
    },
    {
      "cell_type": "markdown",
      "metadata": {
        "id": "FMcQBqKL2X3o",
        "colab_type": "text"
      },
      "source": [
        "# Edit .cfg\n",
        "\n",
        "I recommend having **batch = 64** and **subdivisions = 16** for ultimate results. If you run into any issues then up subdivisions to 32.\n",
        "\n",
        "Make the rest of the changes to the cfg based on how many classes you are training your detector on.\n",
        "\n",
        "**Note:** \n",
        "I set my **max_batches = 6000**, **steps = 4800, 5400**, I changed the **classes = 1** in the three YOLO layers and **filters = 18** in the three convolutional layers before the YOLO layers.\n",
        "\n",
        "How to Configure Your Variables:\n",
        "\n",
        "width = 416\n",
        "\n",
        "height = 416\n",
        "**(these can be any multiple of 32, 416 is standard, you can sometimes improve results by making value larger like 608 but will slow down training)**\n",
        "\n",
        "max_batches = (# of classes) * 2000\n",
        "**(but no less than 6000 so if you are training for 1, 2, or 3 classes it will be 6000, however detector for 5 classes would have max_batches=10000)**\n",
        "\n",
        "steps = (80% of max_batches), (90% of max_batches)\n",
        "**(so if your max_batches = 10000, then steps = 8000, 9000)**\n",
        "\n",
        "filters = (# of classes + 5) * 3\n",
        "**(so if you are training for one class then your filters = 18, but if you are training for 4 classes then your filters = 27)**\n",
        "\n",
        "\n",
        "**Optional:** If you run into memory issues or find the training taking a super long time. In each of the three yolo layers in the cfg, change one line from random = 1 to **random = 0** to speed up training but slightly reduce accuracy of model. Will also help save memory if you run into any memory issues.\n"
      ]
    },
    {
      "cell_type": "markdown",
      "metadata": {
        "id": "WJw0bKdQr96P",
        "colab_type": "text"
      },
      "source": [
        "# Train Your Custom Object Detector"
      ]
    },
    {
      "cell_type": "code",
      "metadata": {
        "id": "AwftHRCDNF2J",
        "colab_type": "code",
        "colab": {}
      },
      "source": [
        "# train your custom detector! (uncomment %%capture below if you run into memory issues or your Colab is crashing)\n",
        "# %%capture\n",
        "# !./darknet detector train /myDrive/yolov4/obj.data /myDrive/yolov4/yolov4-obj.cfg yolov4.conv.137 -dont_show -map\n",
        "!./darknet detector train /myDrive/yolov4/obj.data /myDrive/yolov4/yolov4-tiny-obj.cfg yolov4-tiny.conv.29 -dont_show -map"
      ],
      "execution_count": null,
      "outputs": []
    },
    {
      "cell_type": "code",
      "metadata": {
        "id": "oxMIdVKTUC7j",
        "colab_type": "code",
        "colab": {}
      },
      "source": [
        "# show chart.png of how custom object detector did with training\n",
        "imShow('chart.png')"
      ],
      "execution_count": null,
      "outputs": []
    }
  ]
}