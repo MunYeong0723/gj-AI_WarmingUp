{
 "cells": [
  {
   "cell_type": "code",
   "execution_count": 2,
   "metadata": {},
   "outputs": [],
   "source": [
    "import cv2\n",
    "import os\n",
    "import numpy as np\n",
    "import imutils\n",
    "import serial\n",
    "import time\n",
    "import defs\n",
    "\n",
    "from multiprocessing import Process, Value\n",
    "\n",
    "if __name__ == \"__main__\":\n",
    "\n",
    "    is_mask = Value('i', -1)\n",
    "    warning_cnt = Value('i', 0)\n",
    "    # It is possible to create shared objects using shared memory which can be inherited by child processes.\n",
    "\n",
    "    p1 = Process(target=defs.camera, args=(is_mask,)) # -1 값을 카메라와 체킹에 동시에 준다. 병렬진행\n",
    "    p2 = Process(target=defs.checking, args=(is_mask, warning_cnt))\n",
    "\n",
    "    p1.start()\n",
    "    p2.start()"
   ]
  }
 ],
 "metadata": {
  "kernelspec": {
   "display_name": "Python 3",
   "language": "python",
   "name": "python3"
  },
  "language_info": {
   "codemirror_mode": {
    "name": "ipython",
    "version": 3
   },
   "file_extension": ".py",
   "mimetype": "text/x-python",
   "name": "python",
   "nbconvert_exporter": "python",
   "pygments_lexer": "ipython3",
   "version": "3.7.6"
  }
 },
 "nbformat": 4,
 "nbformat_minor": 4
}
